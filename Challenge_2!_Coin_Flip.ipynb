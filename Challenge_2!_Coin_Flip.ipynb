{
  "nbformat": 4,
  "nbformat_minor": 0,
  "metadata": {
    "colab": {
      "provenance": [],
      "authorship_tag": "ABX9TyMIOM7ERHy7d+dPLhW5IPQW",
      "include_colab_link": true
    },
    "kernelspec": {
      "name": "python3",
      "display_name": "Python 3"
    },
    "language_info": {
      "name": "python"
    }
  },
  "cells": [
    {
      "cell_type": "markdown",
      "metadata": {
        "id": "view-in-github",
        "colab_type": "text"
      },
      "source": [
        "<a href=\"https://colab.research.google.com/github/AlexanderSanJose/CpE-031-VDA-CpE-21s4/blob/main/Challenge_2!_Coin_Flip.ipynb\" target=\"_parent\"><img src=\"https://colab.research.google.com/assets/colab-badge.svg\" alt=\"Open In Colab\"/></a>"
      ]
    },
    {
      "cell_type": "markdown",
      "source": [
        "# **Create a function coin flip() that simulates coin flips repeated 1 time with O representing tails and 1 representing heads. Make the function a generator with the parameter n as the number of coin flips.**"
      ],
      "metadata": {
        "id": "_ufYxEn5wORO"
      }
    },
    {
      "cell_type": "code",
      "source": [
        "\n",
        "import numpy as np\n",
        "\n",
        "def coin_flip(n):\n",
        "  return np.random.randint(2, size=n)\n",
        "\n",
        "n = int(input(\"Enter the number of flips: \"))\n",
        "result = coin_flip(n)\n",
        "print([var for var in result])\n"
      ],
      "metadata": {
        "colab": {
          "base_uri": "https://localhost:8080/"
        },
        "id": "ufxI_lrCpCcd",
        "outputId": "863e34cf-f707-46a7-d68a-ec5e24ac6019"
      },
      "execution_count": 34,
      "outputs": [
        {
          "output_type": "stream",
          "name": "stdout",
          "text": [
            "Enter the number of flips: 7\n",
            "[0, 1, 0, 1, 1, 0, 1]\n"
          ]
        }
      ]
    }
  ]
}
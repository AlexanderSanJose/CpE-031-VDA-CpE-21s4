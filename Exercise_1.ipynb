{
  "nbformat": 4,
  "nbformat_minor": 0,
  "metadata": {
    "colab": {
      "provenance": [],
      "collapsed_sections": [
        "C41b2Ehm_Y_V",
        "HHNdgzwc_t6g",
        "beIpcu266tx-",
        "uqgH_jE_AJ_B",
        "iu3W4NXJ9DSG",
        "iwB6kJYG9w5l",
        "rDF9WW5sAfHj",
        "7NFl8jovEAJc",
        "aTafH5-oEWcs"
      ],
      "authorship_tag": "ABX9TyPfQA+VLXJRD0clbI21yull",
      "include_colab_link": true
    },
    "kernelspec": {
      "name": "python3",
      "display_name": "Python 3"
    },
    "language_info": {
      "name": "python"
    }
  },
  "cells": [
    {
      "cell_type": "markdown",
      "metadata": {
        "id": "view-in-github",
        "colab_type": "text"
      },
      "source": [
        "<a href=\"https://colab.research.google.com/github/AlexanderSanJose/CpE-031-VDA-CpE-21s4/blob/main/Exercise_1.ipynb\" target=\"_parent\"><img src=\"https://colab.research.google.com/assets/colab-badge.svg\" alt=\"Open In Colab\"/></a>"
      ]
    },
    {
      "cell_type": "markdown",
      "source": [
        "# **Variables and Data Types**"
      ],
      "metadata": {
        "id": "C41b2Ehm_Y_V"
      }
    },
    {
      "cell_type": "markdown",
      "source": [
        " **Numbers**"
      ],
      "metadata": {
        "id": "oboSqUeV4Beu"
      }
    },
    {
      "cell_type": "code",
      "source": [
        "varNUm = 123\n",
        "pi = 3.14159"
      ],
      "metadata": {
        "id": "hP4ufWZi4Aze"
      },
      "execution_count": null,
      "outputs": []
    },
    {
      "cell_type": "markdown",
      "source": [
        " **Strings**"
      ],
      "metadata": {
        "id": "SxJZ3zAV4JyY"
      }
    },
    {
      "cell_type": "code",
      "source": [
        "varString = \"Hello World!\"\n",
        "varText = 'This is a String'"
      ],
      "metadata": {
        "id": "DVd8t6-b4qd3"
      },
      "execution_count": null,
      "outputs": []
    },
    {
      "cell_type": "markdown",
      "source": [
        " **List**"
      ],
      "metadata": {
        "id": "Qqs55ghJ4spu"
      }
    },
    {
      "cell_type": "code",
      "source": [
        "varList = [\"abc\", 123]"
      ],
      "metadata": {
        "id": "Qjj_ly3342MO"
      },
      "execution_count": 56,
      "outputs": []
    },
    {
      "cell_type": "markdown",
      "source": [
        " **Tuple**"
      ],
      "metadata": {
        "id": "X60y4SWE5EFu"
      }
    },
    {
      "cell_type": "code",
      "source": [
        "varTuple = 'abc', 123, \"HELLO\""
      ],
      "metadata": {
        "id": "hLFYLmkQ5F5m"
      },
      "execution_count": 55,
      "outputs": []
    },
    {
      "cell_type": "markdown",
      "source": [
        " **Dictionaries**"
      ],
      "metadata": {
        "id": "M_6psJcC5MgF"
      }
    },
    {
      "cell_type": "code",
      "source": [
        "var = 3\n",
        "varDict = {'first':1, '2':'2nd', 3:var}\n",
        "\n",
        "varDict = {}\n",
        "varDict['first']= 1\n",
        "varDict['2'] = '2nd'\n",
        "varDict[3] = var"
      ],
      "metadata": {
        "id": "UL-yIz8b5UVW"
      },
      "execution_count": 54,
      "outputs": []
    },
    {
      "cell_type": "markdown",
      "source": [
        " **Addition**"
      ],
      "metadata": {
        "id": "9MHf0RGW5X-2"
      }
    },
    {
      "cell_type": "code",
      "source": [
        "a = 5 + 3\n",
        "print(a)"
      ],
      "metadata": {
        "colab": {
          "base_uri": "https://localhost:8080/"
        },
        "id": "DkaHRaYr5b-_",
        "outputId": "6a52bab5-b1c6-42b0-98d0-2162236c9ec6"
      },
      "execution_count": 53,
      "outputs": [
        {
          "output_type": "stream",
          "name": "stdout",
          "text": [
            "8\n"
          ]
        }
      ]
    },
    {
      "cell_type": "markdown",
      "source": [
        " **Subtraction**"
      ],
      "metadata": {
        "id": "FopXPifR5iFN"
      }
    },
    {
      "cell_type": "code",
      "source": [
        "a = 5 - 3\n",
        "print(a)"
      ],
      "metadata": {
        "colab": {
          "base_uri": "https://localhost:8080/"
        },
        "id": "NkH5IjnT5lXe",
        "outputId": "e6e14661-9ef3-4176-b1d7-bf08d2d89049"
      },
      "execution_count": 52,
      "outputs": [
        {
          "output_type": "stream",
          "name": "stdout",
          "text": [
            "2\n"
          ]
        }
      ]
    },
    {
      "cell_type": "markdown",
      "source": [
        " **Multiplication**"
      ],
      "metadata": {
        "id": "tiWBP1nc51U2"
      }
    },
    {
      "cell_type": "code",
      "source": [
        "a = 5 * 3\n",
        "print(a)"
      ],
      "metadata": {
        "colab": {
          "base_uri": "https://localhost:8080/"
        },
        "id": "H57ju19c56SW",
        "outputId": "d9ce73e3-d11c-4dd2-f176-3a3231b71231"
      },
      "execution_count": 51,
      "outputs": [
        {
          "output_type": "stream",
          "name": "stdout",
          "text": [
            "15\n"
          ]
        }
      ]
    },
    {
      "cell_type": "markdown",
      "source": [
        " **Exponent**"
      ],
      "metadata": {
        "id": "-7tLbaHY6Eag"
      }
    },
    {
      "cell_type": "code",
      "source": [
        "a = 5 ** 3\n",
        "print(a)"
      ],
      "metadata": {
        "colab": {
          "base_uri": "https://localhost:8080/"
        },
        "id": "mOV7t-qn6LKO",
        "outputId": "bb9837a7-9b7e-4a64-caf5-39c25126a923"
      },
      "execution_count": 17,
      "outputs": [
        {
          "output_type": "stream",
          "name": "stdout",
          "text": [
            "125\n"
          ]
        }
      ]
    },
    {
      "cell_type": "markdown",
      "source": [
        " **Division**"
      ],
      "metadata": {
        "id": "wx8MdoWo6UXH"
      }
    },
    {
      "cell_type": "code",
      "source": [
        "a = 5 / 3\n",
        "b = 5 % 3\n",
        "c = 5 // 3\n",
        "\n",
        "print(a)\n",
        "print(b)\n",
        "print(c)"
      ],
      "metadata": {
        "colab": {
          "base_uri": "https://localhost:8080/"
        },
        "id": "Xb0E_h206Wu-",
        "outputId": "579ee94d-88de-4649-cf85-0071c1bf9655"
      },
      "execution_count": 16,
      "outputs": [
        {
          "output_type": "stream",
          "name": "stdout",
          "text": [
            "1.6666666666666667\n",
            "2\n",
            "1\n"
          ]
        }
      ]
    },
    {
      "cell_type": "markdown",
      "source": [
        "# **Arithmetic**"
      ],
      "metadata": {
        "id": "HHNdgzwc_t6g"
      }
    },
    {
      "cell_type": "markdown",
      "source": [
        " **Increment/Decrement**"
      ],
      "metadata": {
        "id": "dQOurf1D6fR4"
      }
    },
    {
      "cell_type": "code",
      "source": [
        "a = 5\n",
        "a += 1\n",
        "print(a)"
      ],
      "metadata": {
        "colab": {
          "base_uri": "https://localhost:8080/"
        },
        "id": "O91SYJSl6jNG",
        "outputId": "0ce43653-2874-411e-fa47-8d387251eb2a"
      },
      "execution_count": 15,
      "outputs": [
        {
          "output_type": "stream",
          "name": "stdout",
          "text": [
            "6\n"
          ]
        }
      ]
    },
    {
      "cell_type": "markdown",
      "source": [
        " **Decrement**"
      ],
      "metadata": {
        "id": "beIpcu266tx-"
      }
    },
    {
      "cell_type": "code",
      "source": [
        "a = 5\n",
        "a -= 1\n",
        "print (a)"
      ],
      "metadata": {
        "colab": {
          "base_uri": "https://localhost:8080/"
        },
        "id": "oCjWo9rc60Se",
        "outputId": "c0275983-910d-49df-ca7c-cb0e74c38c5e"
      },
      "execution_count": 3,
      "outputs": [
        {
          "output_type": "stream",
          "name": "stdout",
          "text": [
            "4\n"
          ]
        }
      ]
    },
    {
      "cell_type": "markdown",
      "source": [
        " **String** **Concatenation**"
      ],
      "metadata": {
        "id": "nyoFPsgc68A-"
      }
    },
    {
      "cell_type": "code",
      "source": [
        "a = 'Hello ' + 'World!'\n",
        "print(a)"
      ],
      "metadata": {
        "colab": {
          "base_uri": "https://localhost:8080/"
        },
        "id": "W4PTMnac7G-4",
        "outputId": "88a65769-e338-4ba4-fb46-db8d1db0b9af"
      },
      "execution_count": 14,
      "outputs": [
        {
          "output_type": "stream",
          "name": "stdout",
          "text": [
            "Hello World!\n"
          ]
        }
      ]
    },
    {
      "cell_type": "markdown",
      "source": [
        " **Complex** **Expressions**"
      ],
      "metadata": {
        "id": "wbcShLTK7dUe"
      }
    },
    {
      "cell_type": "code",
      "source": [
        "a = 3 + 5 - 6 * 2 / 4\n",
        "print(a)"
      ],
      "metadata": {
        "colab": {
          "base_uri": "https://localhost:8080/"
        },
        "id": "0R55-nOg7ieG",
        "outputId": "336aa8fd-e32c-4109-86f8-6f404bd6583d"
      },
      "execution_count": 50,
      "outputs": [
        {
          "output_type": "stream",
          "name": "stdout",
          "text": [
            "5.0\n"
          ]
        }
      ]
    },
    {
      "cell_type": "markdown",
      "source": [
        "# **Control Statement and Data Structures**"
      ],
      "metadata": {
        "id": "uqgH_jE_AJ_B"
      }
    },
    {
      "cell_type": "markdown",
      "source": [
        " **Boolean** **Conditions**"
      ],
      "metadata": {
        "id": "RvZgt3Nd78f2"
      }
    },
    {
      "cell_type": "code",
      "source": [
        "x = True\n",
        "\n",
        "if x:\n",
        "  print(\"var x is true\")\n",
        "else:\n",
        "  print(\"var x is false\")"
      ],
      "metadata": {
        "colab": {
          "base_uri": "https://localhost:8080/"
        },
        "id": "yZ78ITyA8AUe",
        "outputId": "85cfc683-448a-4344-d96d-dcd27c3ffb4f"
      },
      "execution_count": 5,
      "outputs": [
        {
          "output_type": "stream",
          "name": "stdout",
          "text": [
            "var x is true\n"
          ]
        }
      ]
    },
    {
      "cell_type": "markdown",
      "source": [
        " **String** **Conditions**"
      ],
      "metadata": {
        "id": "poo3qe-Z8cCm"
      }
    },
    {
      "cell_type": "code",
      "source": [
        "x = \"Hello World!\"\n",
        "\n",
        "if x == 'Hello World!':\n",
        "  print (\"var x is Hello World!\")\n",
        "else:\n",
        "  print(\"var x is not Hello World!\")"
      ],
      "metadata": {
        "colab": {
          "base_uri": "https://localhost:8080/"
        },
        "id": "D5Wjr3J58hrm",
        "outputId": "f575a6d5-76c5-4b73-baff-8f1207e07b7f"
      },
      "execution_count": 6,
      "outputs": [
        {
          "output_type": "stream",
          "name": "stdout",
          "text": [
            "var x is Hello World!\n"
          ]
        }
      ]
    },
    {
      "cell_type": "markdown",
      "source": [
        "**Numerical** **Conditions**"
      ],
      "metadata": {
        "id": "iu3W4NXJ9DSG"
      }
    },
    {
      "cell_type": "code",
      "source": [
        "x = 10\n",
        "\n",
        "if x == '10':\n",
        "  print(\"var x is a string\")\n",
        "elif x == 10:\n",
        "  print(\"var x is an integer\")\n",
        "else:\n",
        "  print(\"var x is none of the above\")"
      ],
      "metadata": {
        "colab": {
          "base_uri": "https://localhost:8080/"
        },
        "id": "38zQWKoa9GwF",
        "outputId": "1b4e4729-0d49-4bc1-ac07-74d96a0bc019"
      },
      "execution_count": 8,
      "outputs": [
        {
          "output_type": "stream",
          "name": "stdout",
          "text": [
            "var x is an integer\n"
          ]
        }
      ]
    },
    {
      "cell_type": "markdown",
      "source": [
        "# **Loops**"
      ],
      "metadata": {
        "id": "iwB6kJYG9w5l"
      }
    },
    {
      "cell_type": "markdown",
      "source": [
        "**For** **Loops**"
      ],
      "metadata": {
        "id": "afmcwr6899R9"
      }
    },
    {
      "cell_type": "code",
      "source": [
        "for var in range(0, 5, 2):\n",
        "  print(var)"
      ],
      "metadata": {
        "colab": {
          "base_uri": "https://localhost:8080/"
        },
        "id": "OX_b2X2j9_SV",
        "outputId": "96273e2d-b1c0-42e0-ce0c-22893b01ab8c"
      },
      "execution_count": 9,
      "outputs": [
        {
          "output_type": "stream",
          "name": "stdout",
          "text": [
            "0\n",
            "2\n",
            "4\n"
          ]
        }
      ]
    },
    {
      "cell_type": "markdown",
      "source": [
        " **While** **Loops**"
      ],
      "metadata": {
        "id": "mjHlhqrQ-RlU"
      }
    },
    {
      "cell_type": "code",
      "source": [
        "var = 0\n",
        "while var < 5:\n",
        "  print(var)\n",
        "  var += 2"
      ],
      "metadata": {
        "colab": {
          "base_uri": "https://localhost:8080/"
        },
        "id": "BnxUWa6b-T9j",
        "outputId": "e0cda2c3-19ed-4bf1-deaf-7e09d2c399d8"
      },
      "execution_count": 10,
      "outputs": [
        {
          "output_type": "stream",
          "name": "stdout",
          "text": [
            "0\n",
            "2\n",
            "4\n"
          ]
        }
      ]
    },
    {
      "cell_type": "markdown",
      "source": [
        " **Nested Loops**"
      ],
      "metadata": {
        "id": "8C_bep8A-fF8"
      }
    },
    {
      "cell_type": "code",
      "source": [
        "x = 0\n",
        "while x < 5:\n",
        "  for y in range(0, x):\n",
        "    print(y, end='')\n",
        "  x += 1\n",
        "  print()"
      ],
      "metadata": {
        "colab": {
          "base_uri": "https://localhost:8080/"
        },
        "id": "lYv93BeX-hMF",
        "outputId": "ac0a84fd-2722-4f20-a8b1-164c65bdc4a1"
      },
      "execution_count": 12,
      "outputs": [
        {
          "output_type": "stream",
          "name": "stdout",
          "text": [
            "\n",
            "0\n",
            "01\n",
            "012\n",
            "0123\n"
          ]
        }
      ]
    },
    {
      "cell_type": "markdown",
      "source": [
        "# **Lists**"
      ],
      "metadata": {
        "id": "rDF9WW5sAfHj"
      }
    },
    {
      "cell_type": "code",
      "source": [
        "pi = 3.14159\n",
        "varList = [1, 2, 'A', 'B', 'Hello!', pi]\n",
        "print(varList[0])\n",
        "print(varList[4])\n",
        "varList.append('World!')\n",
        "print(varList[6])\n",
        "len(varList)\n",
        "print(varList[5])\n",
        "varList.remove(pi)\n",
        "print(varList[5])"
      ],
      "metadata": {
        "colab": {
          "base_uri": "https://localhost:8080/"
        },
        "id": "E0-dzvlxDph2",
        "outputId": "51e55a5c-0cae-4135-a28b-f69461df5c97"
      },
      "execution_count": 41,
      "outputs": [
        {
          "output_type": "stream",
          "name": "stdout",
          "text": [
            "1\n",
            "Hello!\n",
            "World!\n",
            "3.14159\n",
            "World!\n"
          ]
        }
      ]
    },
    {
      "cell_type": "markdown",
      "source": [
        "# **Dictionaries**"
      ],
      "metadata": {
        "id": "7NFl8jovEAJc"
      }
    },
    {
      "cell_type": "code",
      "source": [
        "var = \"Hello World!\"\n",
        "varDict = {'first' : 123, 2 : 'abc',\n",
        "           '3' : var, 4 : ['lista', 'listb']}\n",
        "print(varDict['first'])"
      ],
      "metadata": {
        "colab": {
          "base_uri": "https://localhost:8080/"
        },
        "id": "wsmm6fm0CCQS",
        "outputId": "aa43460f-5319-45bf-ed8e-e233080c351a"
      },
      "execution_count": 31,
      "outputs": [
        {
          "output_type": "stream",
          "name": "stdout",
          "text": [
            "123\n"
          ]
        }
      ]
    },
    {
      "cell_type": "code",
      "source": [
        "print(varDict[2])"
      ],
      "metadata": {
        "colab": {
          "base_uri": "https://localhost:8080/"
        },
        "id": "E3lMEfD4CiBj",
        "outputId": "f93746e7-e6e7-49b6-b7d7-5c4e1fe768bf"
      },
      "execution_count": 32,
      "outputs": [
        {
          "output_type": "stream",
          "name": "stdout",
          "text": [
            "abc\n"
          ]
        }
      ]
    },
    {
      "cell_type": "code",
      "source": [
        "print(varDict['3'])"
      ],
      "metadata": {
        "colab": {
          "base_uri": "https://localhost:8080/"
        },
        "id": "-OhdbLEGCpeU",
        "outputId": "0d21451e-8176-4be8-9b31-0a2051eec3ce"
      },
      "execution_count": 33,
      "outputs": [
        {
          "output_type": "stream",
          "name": "stdout",
          "text": [
            "Hello World!\n"
          ]
        }
      ]
    },
    {
      "cell_type": "code",
      "source": [
        "print(varDict[4])"
      ],
      "metadata": {
        "colab": {
          "base_uri": "https://localhost:8080/"
        },
        "id": "oh3-w1TYCrj0",
        "outputId": "807f73d9-8747-41d8-b011-0ca97ca09419"
      },
      "execution_count": 43,
      "outputs": [
        {
          "output_type": "stream",
          "name": "stdout",
          "text": [
            "['lista', 'listb']\n"
          ]
        }
      ]
    },
    {
      "cell_type": "code",
      "source": [
        "print(varDict[4][1])"
      ],
      "metadata": {
        "colab": {
          "base_uri": "https://localhost:8080/"
        },
        "id": "Nwq1978ACuir",
        "outputId": "e1b9a53c-d6ec-4f54-f986-23e20026ae74"
      },
      "execution_count": 42,
      "outputs": [
        {
          "output_type": "stream",
          "name": "stdout",
          "text": [
            "listb\n"
          ]
        }
      ]
    },
    {
      "cell_type": "code",
      "source": [
        "len(varDict)"
      ],
      "metadata": {
        "colab": {
          "base_uri": "https://localhost:8080/"
        },
        "id": "RJg7UxFRCyet",
        "outputId": "ca5a9d97-0328-4de3-dc99-1302377df15c"
      },
      "execution_count": 34,
      "outputs": [
        {
          "output_type": "execute_result",
          "data": {
            "text/plain": [
              "4"
            ]
          },
          "metadata": {},
          "execution_count": 34
        }
      ]
    },
    {
      "cell_type": "markdown",
      "source": [
        "# **List Generators and Comprehension**"
      ],
      "metadata": {
        "id": "aTafH5-oEWcs"
      }
    },
    {
      "cell_type": "code",
      "source": [
        "def gen_num_up_to(n):\n",
        "  num = 0\n",
        "  while num < n:\n",
        "    yield num\n",
        "    num += 1"
      ],
      "metadata": {
        "id": "S3VixgiAEfxi"
      },
      "execution_count": 44,
      "outputs": []
    },
    {
      "cell_type": "code",
      "source": [
        "gen_num_up_to(5)"
      ],
      "metadata": {
        "colab": {
          "base_uri": "https://localhost:8080/"
        },
        "id": "YuUY5A9KEwWc",
        "outputId": "24ec62b0-dd7a-4865-d6e9-cfd7331d7ef0"
      },
      "execution_count": 45,
      "outputs": [
        {
          "output_type": "execute_result",
          "data": {
            "text/plain": [
              "<generator object gen_num_up_to at 0x7e7544eb0120>"
            ]
          },
          "metadata": {},
          "execution_count": 45
        }
      ]
    },
    {
      "cell_type": "code",
      "source": [
        "varList = gen_num_up_to(5)\n",
        "print([var for var in varList])"
      ],
      "metadata": {
        "colab": {
          "base_uri": "https://localhost:8080/"
        },
        "id": "sqR1OnOgE2_r",
        "outputId": "e1b22d00-dbec-4295-c84f-b1c11189ff4d"
      },
      "execution_count": 46,
      "outputs": [
        {
          "output_type": "stream",
          "name": "stdout",
          "text": [
            "[0, 1, 2, 3, 4]\n"
          ]
        }
      ]
    },
    {
      "cell_type": "code",
      "source": [
        "def gen_num_up_to(n):\n",
        "  num = 0\n",
        "  while num < n:\n",
        "    yield num\n",
        "    num +=2\n",
        "\n",
        "varList = gen_num_up_to(5)\n",
        "print([var for var in varList])"
      ],
      "metadata": {
        "colab": {
          "base_uri": "https://localhost:8080/"
        },
        "id": "EOCtYb-PFFgt",
        "outputId": "7fe3931d-1eaa-4b92-c1bc-a5438b56cd09"
      },
      "execution_count": 47,
      "outputs": [
        {
          "output_type": "stream",
          "name": "stdout",
          "text": [
            "[0, 2, 4]\n"
          ]
        }
      ]
    },
    {
      "cell_type": "code",
      "source": [
        "varList = range(0, 5, 2)\n",
        "print([var for var in varList])"
      ],
      "metadata": {
        "colab": {
          "base_uri": "https://localhost:8080/"
        },
        "id": "sebl6kfBFj7a",
        "outputId": "95128cd7-eabe-4e3c-c973-23ad2d6097a7"
      },
      "execution_count": 48,
      "outputs": [
        {
          "output_type": "stream",
          "name": "stdout",
          "text": [
            "[0, 2, 4]\n"
          ]
        }
      ]
    },
    {
      "cell_type": "markdown",
      "source": [
        "# **Slicing**"
      ],
      "metadata": {
        "id": "Mmf1GdfbGkfV"
      }
    },
    {
      "cell_type": "code",
      "source": [
        "varList = [1, 2, 3, 4, 5, 6, 7, 8, 9, 10]\n",
        "print(varList[:5])"
      ],
      "metadata": {
        "colab": {
          "base_uri": "https://localhost:8080/"
        },
        "id": "Ru1KxmHAGmdk",
        "outputId": "52050095-9263-41ac-b3ba-e3b7b4f4a481"
      },
      "execution_count": 58,
      "outputs": [
        {
          "output_type": "stream",
          "name": "stdout",
          "text": [
            "[1, 2, 3, 4, 5]\n"
          ]
        }
      ]
    },
    {
      "cell_type": "code",
      "source": [
        "print(varList[5:])"
      ],
      "metadata": {
        "colab": {
          "base_uri": "https://localhost:8080/"
        },
        "id": "4vkmzeFlG7ED",
        "outputId": "bfaa4881-8b39-4e5c-e3bc-5c57ff79e2d3"
      },
      "execution_count": 59,
      "outputs": [
        {
          "output_type": "stream",
          "name": "stdout",
          "text": [
            "[6, 7, 8, 9, 10]\n"
          ]
        }
      ]
    },
    {
      "cell_type": "code",
      "source": [
        "print(varList[:-2])"
      ],
      "metadata": {
        "colab": {
          "base_uri": "https://localhost:8080/"
        },
        "id": "3uUk8VBfHATT",
        "outputId": "f3ea6c38-23a1-43aa-b30d-3cd8e78c2dbd"
      },
      "execution_count": 60,
      "outputs": [
        {
          "output_type": "stream",
          "name": "stdout",
          "text": [
            "[1, 2, 3, 4, 5, 6, 7, 8]\n"
          ]
        }
      ]
    },
    {
      "cell_type": "code",
      "source": [
        "print(varList[-2:])"
      ],
      "metadata": {
        "colab": {
          "base_uri": "https://localhost:8080/"
        },
        "id": "hffgBNKKHGPq",
        "outputId": "b1f2b394-29a9-47f7-f23a-420bd4aeb250"
      },
      "execution_count": 61,
      "outputs": [
        {
          "output_type": "stream",
          "name": "stdout",
          "text": [
            "[9, 10]\n"
          ]
        }
      ]
    },
    {
      "cell_type": "code",
      "source": [
        "print(varList[2:-2])"
      ],
      "metadata": {
        "colab": {
          "base_uri": "https://localhost:8080/"
        },
        "id": "_25BevS4HLhk",
        "outputId": "9cabf3a7-e974-40c3-d6ee-03b3424b4950"
      },
      "execution_count": 63,
      "outputs": [
        {
          "output_type": "stream",
          "name": "stdout",
          "text": [
            "[3, 4, 5, 6, 7, 8]\n"
          ]
        }
      ]
    },
    {
      "cell_type": "code",
      "source": [
        "print(varList[2:8:2])"
      ],
      "metadata": {
        "colab": {
          "base_uri": "https://localhost:8080/"
        },
        "id": "n4c4FjVqHS7k",
        "outputId": "9668c91a-e71e-408b-cb36-0df280110d33"
      },
      "execution_count": 64,
      "outputs": [
        {
          "output_type": "stream",
          "name": "stdout",
          "text": [
            "[3, 5, 7]\n"
          ]
        }
      ]
    },
    {
      "cell_type": "markdown",
      "source": [
        "# **Functions**"
      ],
      "metadata": {
        "id": "PmSLCjzgIKYa"
      }
    },
    {
      "cell_type": "code",
      "source": [
        "def remainder(n, m):\n",
        "  while True:\n",
        "    if n - m < 0:\n",
        "      return n\n",
        "    else:\n",
        "      n = n - m\n",
        "\n",
        "remainder(10, 4)"
      ],
      "metadata": {
        "colab": {
          "base_uri": "https://localhost:8080/"
        },
        "id": "fCmVFOrgINGa",
        "outputId": "17b28a17-9bc8-433a-b667-3bc80a07aa89"
      },
      "execution_count": 65,
      "outputs": [
        {
          "output_type": "execute_result",
          "data": {
            "text/plain": [
              "2"
            ]
          },
          "metadata": {},
          "execution_count": 65
        }
      ]
    }
  ]
}
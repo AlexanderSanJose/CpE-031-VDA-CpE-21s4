{
  "nbformat": 4,
  "nbformat_minor": 0,
  "metadata": {
    "colab": {
      "provenance": [],
      "authorship_tag": "ABX9TyO5ijcuL80C3dY2Qsiz40Jn",
      "include_colab_link": true
    },
    "kernelspec": {
      "name": "python3",
      "display_name": "Python 3"
    },
    "language_info": {
      "name": "python"
    }
  },
  "cells": [
    {
      "cell_type": "markdown",
      "metadata": {
        "id": "view-in-github",
        "colab_type": "text"
      },
      "source": [
        "<a href=\"https://colab.research.google.com/github/AlexanderSanJose/CpE-031-VDA-CpE-21s4/blob/main/Exercise_2_Challenge.ipynb\" target=\"_parent\"><img src=\"https://colab.research.google.com/assets/colab-badge.svg\" alt=\"Open In Colab\"/></a>"
      ]
    },
    {
      "cell_type": "markdown",
      "source": [
        "Example 1"
      ],
      "metadata": {
        "id": "5iuil5__ypB1"
      }
    },
    {
      "cell_type": "code",
      "execution_count": 1,
      "metadata": {
        "colab": {
          "base_uri": "https://localhost:8080/"
        },
        "id": "Yvmxf5JOv07v",
        "outputId": "e4e53a46-c799-45a2-930b-da1e98db232b"
      },
      "outputs": [
        {
          "output_type": "stream",
          "name": "stdout",
          "text": [
            "     cars  height\n",
            "0     Cat      13\n",
            "1     Dog      17\n",
            "2  Rabbit       8\n"
          ]
        }
      ],
      "source": [
        "import pandas\n",
        "\n",
        "mydataset = {\n",
        "  'cars': [\"Cat\", \"Dog\", \"Rabbit\"],\n",
        "  'height': [13, 17, 8]\n",
        "}\n",
        "\n",
        "myvar = pandas.DataFrame(mydataset)\n",
        "\n",
        "print(myvar)"
      ]
    },
    {
      "cell_type": "markdown",
      "source": [
        "Example 2"
      ],
      "metadata": {
        "id": "LGPk6MS18poH"
      }
    },
    {
      "cell_type": "code",
      "source": [
        "import pandas as pd\n",
        "\n",
        "a = [1, 7, 2]\n",
        "\n",
        "myvar = pd.Series(a)\n",
        "\n",
        "print(myvar)"
      ],
      "metadata": {
        "colab": {
          "base_uri": "https://localhost:8080/"
        },
        "id": "wBp2PVtD2rIU",
        "outputId": "79acef7c-8f23-47d9-c64a-d348f92fca2b"
      },
      "execution_count": 26,
      "outputs": [
        {
          "output_type": "stream",
          "name": "stdout",
          "text": [
            "0    1\n",
            "1    7\n",
            "2    2\n",
            "dtype: int64\n"
          ]
        }
      ]
    },
    {
      "cell_type": "markdown",
      "source": [
        "Example 3"
      ],
      "metadata": {
        "id": "afWb1v_M8x1J"
      }
    },
    {
      "cell_type": "code",
      "source": [
        "import pandas as pd\n",
        "\n",
        "data = {\n",
        "  \"age\": [42, 38, 39],\n",
        "  \"weight\": [50, 40, 45]\n",
        "}\n",
        "myvar = pd.DataFrame(data)\n",
        "print(myvar)"
      ],
      "metadata": {
        "colab": {
          "base_uri": "https://localhost:8080/"
        },
        "id": "QB_Kl1RQ8CLv",
        "outputId": "26f00cba-a8b9-42f9-fcdc-f6f71751fbdd"
      },
      "execution_count": 24,
      "outputs": [
        {
          "output_type": "stream",
          "name": "stdout",
          "text": [
            "   age  weight\n",
            "0   42      50\n",
            "1   38      40\n",
            "2   39      45\n"
          ]
        }
      ]
    },
    {
      "cell_type": "markdown",
      "source": [
        "Example 4"
      ],
      "metadata": {
        "id": "npQA7zST_hff"
      }
    },
    {
      "cell_type": "code",
      "source": [
        "import pandas as pd\n",
        "\n",
        "s1 = pd.Series([0, 4, 8])\n",
        "s2 = pd.Series([1, 5, 9])\n",
        "s3 = pd.Series([2, 6, 8])\n",
        "\n",
        "dframe = pd.DataFrame([s1, s2, s3])\n",
        "\n",
        "print(dframe.loc[1:])\n",
        "\n"
      ],
      "metadata": {
        "colab": {
          "base_uri": "https://localhost:8080/"
        },
        "id": "n4gB2QIs_eua",
        "outputId": "b78b2cf6-8b35-4a75-f9a8-62fc9b701f9a"
      },
      "execution_count": 25,
      "outputs": [
        {
          "output_type": "stream",
          "name": "stdout",
          "text": [
            "   0  1  2\n",
            "1  1  5  9\n",
            "2  2  6  8\n"
          ]
        }
      ]
    },
    {
      "cell_type": "markdown",
      "source": [
        "Example 5"
      ],
      "metadata": {
        "id": "LMuZ3GZMEGsB"
      }
    },
    {
      "cell_type": "code",
      "source": [
        "import pandas as pd\n",
        "\n",
        "s1 = pd.Series([0, 4, 0])\n",
        "s2 = pd.Series([1, 5, 9])\n",
        "s3 = pd.Series([2, 6, 8])\n",
        "s4 = pd.Series([5, 10, 15])\n",
        "dframe = pd.DataFrame(data=[s1, s2, s3, s4], index=[0, 1, 2, 3], columns=[0, 1, 2])\n",
        "\n",
        "print(dframe)"
      ],
      "metadata": {
        "colab": {
          "base_uri": "https://localhost:8080/"
        },
        "id": "QaOy-NFgEIoa",
        "outputId": "9bbdf77c-1dff-4003-d25d-02676702b3f3"
      },
      "execution_count": 23,
      "outputs": [
        {
          "output_type": "stream",
          "name": "stdout",
          "text": [
            "   0   1   2\n",
            "0  0   4   0\n",
            "1  1   5   9\n",
            "2  2   6   8\n",
            "3  5  10  15\n"
          ]
        }
      ]
    },
    {
      "cell_type": "markdown",
      "source": [
        "# How are you going delete indices no 0,1,3 leaving only all items in index 2?"
      ],
      "metadata": {
        "id": "ipXTlf7eIV5L"
      }
    },
    {
      "cell_type": "code",
      "source": [
        "import pandas as pd\n",
        "\n",
        "s1 = pd.Series([0, 4, 0])\n",
        "s2 = pd.Series([1, 5, 9])\n",
        "s3 = pd.Series([2, 6, 8])\n",
        "s4 = pd.Series([5, 10, 15])\n",
        "dframe = pd.DataFrame(data=[s1, s2, s3, s4], index=[0, 1, 2, 3], columns=[0, 1, 2])\n",
        "\n",
        "dframe = dframe.drop([0, 1, 3])\n",
        "print(dframe)"
      ],
      "metadata": {
        "colab": {
          "base_uri": "https://localhost:8080/"
        },
        "id": "CsVJhRQdIXXX",
        "outputId": "3e26cbb7-3a4a-436e-88b4-d15b201ed4d5"
      },
      "execution_count": 22,
      "outputs": [
        {
          "output_type": "stream",
          "name": "stdout",
          "text": [
            "   0  1  2\n",
            "2  2  6  8\n"
          ]
        }
      ]
    }
  ]
}